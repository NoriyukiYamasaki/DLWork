{
 "cells": [
  {
   "cell_type": "markdown",
   "metadata": {},
   "source": [
    "# 課題「カタカタ5文字を自動識別するモデルの構築」\n",
    "ここでは、課題に取り組むにあたり参考となる情報をまとめておく"
   ]
  },
  {
   "cell_type": "code",
   "execution_count": null,
   "metadata": {
    "ExecuteTime": {
     "end_time": "2018-03-30T05:44:34.738010Z",
     "start_time": "2018-03-30T05:44:33.614086Z"
    },
    "scrolled": true
   },
   "outputs": [],
   "source": [
    "from PIL import Image\n",
    "import numpy as np\n",
    "import matplotlib.pyplot as plt\n",
    "from IPython.display import display\n",
    "import glob\n",
    "import os,sys\n",
    "from sklearn.preprocessing import LabelBinarizer\n",
    "\n",
    "dic_katakana = {\"a\":0,\"i\":1,\"u\":2,\"e\":3,\"o\":4}\n",
    "pixel = 28"
   ]
  },
  {
   "cell_type": "markdown",
   "metadata": {},
   "source": [
    "## 元画像を表示させる方法\n",
    "元画像は、28ピクセル*28ピクセルのサイズで、0から255までのグレースケール画像。"
   ]
  },
  {
   "cell_type": "code",
   "execution_count": null,
   "metadata": {
    "scrolled": false
   },
   "outputs": [],
   "source": [
    "id_ = 0\n",
    "for katakana in dic_katakana.keys():\n",
    "    img_ = Image.open(\"../1_data/train/%s/%s_%s.png\"%(katakana,katakana, id_))\n",
    "    display(img_)"
   ]
  },
  {
   "cell_type": "markdown",
   "metadata": {},
   "source": [
    "## 元画像をnumpy形式に変換する方法&前処理の例"
   ]
  },
  {
   "cell_type": "code",
   "execution_count": null,
   "metadata": {},
   "outputs": [],
   "source": [
    "# trainデータのファイルパスを取得\n",
    "li_fpath = glob.glob(\"../1_data/train/*/*.png\")\n",
    "li_fpath[:10]"
   ]
  },
  {
   "cell_type": "code",
   "execution_count": null,
   "metadata": {},
   "outputs": [],
   "source": [
    "# numpy形式に変換\n",
    "num_image = len(li_fpath)\n",
    "channel = 1 # グレースケール\n",
    "train_data = np.empty((num_image, channel, pixel, pixel))\n",
    "train_label = []\n",
    "\n",
    "for i, fpath in enumerate(li_fpath):\n",
    "    \n",
    "    label_str = os.path.split(fpath)[1].split(\"_\")[0]\n",
    "    label_int = dic_katakana[label_str]\n",
    "    train_label.append(label_int)\n",
    "    \n",
    "    img_ = Image.open(fpath)\n",
    "    img_ = np.array(img_).astype(np.float32)\n",
    "    train_data[i, 0, :] = img_\n",
    "    \n",
    "print(\"train_data.shape=\", train_data.shape)\n",
    "print()\n",
    "\n",
    "# 正規化\n",
    "train_data = train_data / train_data.max()\n",
    "train_data = train_data.astype('float32')\n",
    "print(train_data)\n",
    "print()\n",
    "\n",
    "# one hotベクトル化\n",
    "lb = LabelBinarizer()\n",
    "train_label =lb.fit_transform(train_label).astype('int32')\n",
    "print(train_label)\n"
   ]
  },
  {
   "cell_type": "markdown",
   "metadata": {},
   "source": [
    "## 前処理したデータを出力する方法"
   ]
  },
  {
   "cell_type": "code",
   "execution_count": null,
   "metadata": {},
   "outputs": [],
   "source": [
    "np.save(\"../1_data/train_data.npy\", train_data)\n",
    "np.save(\"../1_data/train_label.npy\", train_label)"
   ]
  },
  {
   "cell_type": "markdown",
   "metadata": {},
   "source": [
    "## 課題への取り組み方\n",
    "* 講義の中でDNNの各種関数を実装する方法を紹介します。それを踏まえ、できるだけ自分で実装したDNNを用いて計算してみてください。\n",
    "* どうしても自分でDNNを実装することが難しい方や、高度なモデルを試してみたい方は、最新版のTensorFlow+kerasを使って計算してください。\n",
    "* 講義の中でCNNを紹介するのはDAY6です。DAY5に行う中間発表で報告する内容は、全結合型NNでの計算結果で構いません。\n",
    "* 学習用データは、アイウエオそれぞれ200枚ずつの合計1000枚です。これは講座開始時に配布します。\n",
    "* テスト用データは、アイウエオそれぞれ1300枚ずつの合計6500枚です。これは講座終了後も受講者へは配布しません。\n",
    "* 学習済みモデルが完成したら、submit_katakana.ipynbを完成させ、submit_katakana.ipynb、学習済みモデル、自作コードなどを同じディレクトリに納めzipし、提出してください。\n",
    "* スキルアップAI運営側でテスト用データに対する識別精度を計算し、識別精度結果だけをご連絡します。\n",
    "* テスト用データに対する識別精度結果が講座修了要件の一つになります。その基準値は別途ご連絡します。"
   ]
  }
 ],
 "metadata": {
  "anaconda-cloud": {},
  "kernelspec": {
   "display_name": "Python 3",
   "language": "python",
   "name": "python3"
  },
  "language_info": {
   "codemirror_mode": {
    "name": "ipython",
    "version": 3
   },
   "file_extension": ".py",
   "mimetype": "text/x-python",
   "name": "python",
   "nbconvert_exporter": "python",
   "pygments_lexer": "ipython3",
   "version": "3.6.4"
  }
 },
 "nbformat": 4,
 "nbformat_minor": 1
}
